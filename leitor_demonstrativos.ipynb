{
 "cells": [
  {
   "cell_type": "code",
   "execution_count": 99,
   "metadata": {},
   "outputs": [],
   "source": [
    "import fitz\n",
    "import pandas\n",
    "doc=fitz.open(r'C:\\Users\\LuanNogs\\Documents\\Leitor_Demonstrativo\\Demonstrativos_COPEL\\COPEL\\Abelor 75 kW - Salto do Lontra\\DEMONSTRATIVO GERAÇÃO_ABELOR 75 kW_JANEIRO.2024.pdf')\n",
    "page=doc[0]"
   ]
  },
  {
   "cell_type": "code",
   "execution_count": 91,
   "metadata": {},
   "outputs": [
    {
     "data": {
      "text/plain": [
       "'110230434'"
      ]
     },
     "execution_count": 91,
     "metadata": {},
     "output_type": "execute_result"
    }
   ],
   "source": [
    "page.get_text(option=\"words\",clip=fitz.Rect([14,65,500,100]),delimiters=':')[1][4]\n",
    "demons_0:pandas.DataFrame=page.find_tables().tables[0].to_pandas()\n",
    "demons_0.drop([0],axis=0,inplace=True)"
   ]
  },
  {
   "cell_type": "code",
   "execution_count": 109,
   "metadata": {},
   "outputs": [
    {
     "data": {
      "text/plain": [
       "'01/2024'"
      ]
     },
     "execution_count": 109,
     "metadata": {},
     "output_type": "execute_result"
    }
   ],
   "source": [
    "# page.get_textbox(fitz.Rect([14,68,500,100]))\n",
    "demons_0:pandas.DataFrame=page.find_tables().tables[0].to_pandas()\n",
    "demons_0.drop([0],axis=0,inplace=True)\n",
    "\n"
   ]
  },
  {
   "cell_type": "code",
   "execution_count": null,
   "metadata": {},
   "outputs": [],
   "source": [
    "class Usinas():\n",
    "    def __init__(self,file_rateios:str,file_demonstrativos:str) -> None:\n",
    "        pass"
   ]
  },
  {
   "cell_type": "code",
   "execution_count": 122,
   "metadata": {},
   "outputs": [
    {
     "data": {
      "text/plain": [
       "'110230434'"
      ]
     },
     "execution_count": 122,
     "metadata": {},
     "output_type": "execute_result"
    }
   ],
   "source": [
    "doc=fitz.open(r'C:\\Users\\LuanNogs\\Documents\\Leitor_Demonstrativo\\Rateios_COPEL\\COPEL\\Abelor 75 kW - Salto do Lontra\\Formulário Consórcio - COPEL - UC 110230434 - Janeiro.2024.pdf')\n",
    "page=doc[0]\n",
    "\n",
    "UC_rateio= page.get_text('words',clip=page.first_annot.rect)[9][4]\n"
   ]
  }
 ],
 "metadata": {
  "kernelspec": {
   "display_name": "demonsvenv",
   "language": "python",
   "name": "python3"
  },
  "language_info": {
   "codemirror_mode": {
    "name": "ipython",
    "version": 3
   },
   "file_extension": ".py",
   "mimetype": "text/x-python",
   "name": "python",
   "nbconvert_exporter": "python",
   "pygments_lexer": "ipython3",
   "version": "3.8.10"
  }
 },
 "nbformat": 4,
 "nbformat_minor": 2
}
